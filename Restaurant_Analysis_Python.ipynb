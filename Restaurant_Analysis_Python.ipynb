{
 "cells": [
  {
   "cell_type": "code",
   "execution_count": 2,
   "id": "0e3d92bd-608c-4e78-aa9a-38749a2b20e1",
   "metadata": {},
   "outputs": [],
   "source": [
    "import pandas as pd\n",
    "import seaborn as sns\n",
    "import matplotlib.pyplot as plt"
   ]
  },
  {
   "cell_type": "code",
   "execution_count": 3,
   "id": "c5b8522f-cd12-469c-a8f3-ffb8bc9b5891",
   "metadata": {},
   "outputs": [],
   "source": [
    "data=pd.read_csv(r'/Users/sumitkumar/Documents/CloudyData/Python/Pandas/9. Restaurant-Sales-Data-Analysis.csv')"
   ]
  },
  {
   "cell_type": "code",
   "execution_count": 4,
   "id": "9104a1bf-e1a1-4619-a93d-0b84ec517cbc",
   "metadata": {},
   "outputs": [
    {
     "data": {
      "text/html": [
       "<div>\n",
       "<style scoped>\n",
       "    .dataframe tbody tr th:only-of-type {\n",
       "        vertical-align: middle;\n",
       "    }\n",
       "\n",
       "    .dataframe tbody tr th {\n",
       "        vertical-align: top;\n",
       "    }\n",
       "\n",
       "    .dataframe thead th {\n",
       "        text-align: right;\n",
       "    }\n",
       "</style>\n",
       "<table border=\"1\" class=\"dataframe\">\n",
       "  <thead>\n",
       "    <tr style=\"text-align: right;\">\n",
       "      <th></th>\n",
       "      <th>Order ID</th>\n",
       "      <th>Date</th>\n",
       "      <th>Product</th>\n",
       "      <th>Price</th>\n",
       "      <th>Quantity</th>\n",
       "      <th>Purchase Type</th>\n",
       "      <th>Payment Method</th>\n",
       "      <th>Manager</th>\n",
       "      <th>City</th>\n",
       "    </tr>\n",
       "  </thead>\n",
       "  <tbody>\n",
       "    <tr>\n",
       "      <th>0</th>\n",
       "      <td>10452</td>\n",
       "      <td>07-11-2022</td>\n",
       "      <td>Fries</td>\n",
       "      <td>3.49</td>\n",
       "      <td>573.07</td>\n",
       "      <td>Online</td>\n",
       "      <td>Gift Card</td>\n",
       "      <td>Tom      Jackson</td>\n",
       "      <td>London</td>\n",
       "    </tr>\n",
       "    <tr>\n",
       "      <th>1</th>\n",
       "      <td>10453</td>\n",
       "      <td>07-11-2022</td>\n",
       "      <td>Beverages</td>\n",
       "      <td>2.95</td>\n",
       "      <td>745.76</td>\n",
       "      <td>Online</td>\n",
       "      <td>Gift Card</td>\n",
       "      <td>Pablo Perez</td>\n",
       "      <td>Madrid</td>\n",
       "    </tr>\n",
       "    <tr>\n",
       "      <th>2</th>\n",
       "      <td>10454</td>\n",
       "      <td>07-11-2022</td>\n",
       "      <td>Sides &amp; Other</td>\n",
       "      <td>4.99</td>\n",
       "      <td>200.40</td>\n",
       "      <td>In-store</td>\n",
       "      <td>Gift Card</td>\n",
       "      <td>Joao    Silva</td>\n",
       "      <td>Lisbon</td>\n",
       "    </tr>\n",
       "    <tr>\n",
       "      <th>3</th>\n",
       "      <td>10455</td>\n",
       "      <td>08-11-2022</td>\n",
       "      <td>Burgers</td>\n",
       "      <td>12.99</td>\n",
       "      <td>569.67</td>\n",
       "      <td>In-store</td>\n",
       "      <td>Credit Card</td>\n",
       "      <td>Walter Muller</td>\n",
       "      <td>Berlin</td>\n",
       "    </tr>\n",
       "    <tr>\n",
       "      <th>4</th>\n",
       "      <td>10456</td>\n",
       "      <td>08-11-2022</td>\n",
       "      <td>Chicken Sandwiches</td>\n",
       "      <td>9.95</td>\n",
       "      <td>201.01</td>\n",
       "      <td>In-store</td>\n",
       "      <td>Credit Card</td>\n",
       "      <td>Walter Muller</td>\n",
       "      <td>Berlin</td>\n",
       "    </tr>\n",
       "  </tbody>\n",
       "</table>\n",
       "</div>"
      ],
      "text/plain": [
       "   Order ID        Date             Product  Price  Quantity Purchase Type  \\\n",
       "0     10452  07-11-2022               Fries   3.49    573.07       Online    \n",
       "1     10453  07-11-2022           Beverages   2.95    745.76       Online    \n",
       "2     10454  07-11-2022       Sides & Other   4.99    200.40     In-store    \n",
       "3     10455  08-11-2022             Burgers  12.99    569.67     In-store    \n",
       "4     10456  08-11-2022  Chicken Sandwiches   9.95    201.01     In-store    \n",
       "\n",
       "  Payment Method             Manager    City  \n",
       "0      Gift Card    Tom      Jackson  London  \n",
       "1      Gift Card         Pablo Perez  Madrid  \n",
       "2      Gift Card       Joao    Silva  Lisbon  \n",
       "3    Credit Card       Walter Muller  Berlin  \n",
       "4    Credit Card       Walter Muller  Berlin  "
      ]
     },
     "execution_count": 4,
     "metadata": {},
     "output_type": "execute_result"
    }
   ],
   "source": [
    "data.head(5)"
   ]
  },
  {
   "cell_type": "code",
   "execution_count": 5,
   "id": "4c76fd6d-3336-4c90-80df-fdc01bd97f59",
   "metadata": {},
   "outputs": [],
   "source": [
    "sales=data.copy()"
   ]
  },
  {
   "cell_type": "code",
   "execution_count": 7,
   "id": "9c0f2405-4700-4e6b-8252-4a90226544de",
   "metadata": {},
   "outputs": [
    {
     "data": {
      "text/plain": [
       "np.int64(0)"
      ]
     },
     "execution_count": 7,
     "metadata": {},
     "output_type": "execute_result"
    }
   ],
   "source": [
    "sales.duplicated().sum()"
   ]
  },
  {
   "cell_type": "code",
   "execution_count": 9,
   "id": "de39a3e5-ffc4-424f-991d-b1b16dfe039b",
   "metadata": {},
   "outputs": [
    {
     "data": {
      "text/plain": [
       "Order ID          0\n",
       "Date              0\n",
       "Product           0\n",
       "Price             0\n",
       "Quantity          0\n",
       "Purchase Type     0\n",
       "Payment Method    0\n",
       "Manager           0\n",
       "City              0\n",
       "dtype: int64"
      ]
     },
     "execution_count": 9,
     "metadata": {},
     "output_type": "execute_result"
    }
   ],
   "source": [
    "sales.isnull().sum()"
   ]
  },
  {
   "cell_type": "code",
   "execution_count": 10,
   "id": "748207ee-bede-484c-a57a-7ad79fbbfebc",
   "metadata": {},
   "outputs": [
    {
     "name": "stdout",
     "output_type": "stream",
     "text": [
      "<class 'pandas.core.frame.DataFrame'>\n",
      "RangeIndex: 254 entries, 0 to 253\n",
      "Data columns (total 9 columns):\n",
      " #   Column          Non-Null Count  Dtype  \n",
      "---  ------          --------------  -----  \n",
      " 0   Order ID        254 non-null    int64  \n",
      " 1   Date            254 non-null    object \n",
      " 2   Product         254 non-null    object \n",
      " 3   Price           254 non-null    float64\n",
      " 4   Quantity        254 non-null    float64\n",
      " 5   Purchase Type   254 non-null    object \n",
      " 6   Payment Method  254 non-null    object \n",
      " 7   Manager         254 non-null    object \n",
      " 8   City            254 non-null    object \n",
      "dtypes: float64(2), int64(1), object(6)\n",
      "memory usage: 18.0+ KB\n"
     ]
    }
   ],
   "source": [
    "data.info()"
   ]
  },
  {
   "cell_type": "code",
   "execution_count": 21,
   "id": "a4b021f2-cd0d-4ec7-8557-f5716bf24a52",
   "metadata": {},
   "outputs": [
    {
     "data": {
      "text/plain": [
       "(254, 9)"
      ]
     },
     "execution_count": 21,
     "metadata": {},
     "output_type": "execute_result"
    }
   ],
   "source": [
    "sales.shape #to check how many rows and columns"
   ]
  },
  {
   "cell_type": "markdown",
   "id": "e79488e9-ba4e-46af-b26d-267ec42443fc",
   "metadata": {},
   "source": [
    "### Observation- Data type conversation-Quantity should be in integer data type."
   ]
  },
  {
   "cell_type": "code",
   "execution_count": 11,
   "id": "081e0c11-e254-4ec6-8d69-d3f6c1a22a4e",
   "metadata": {},
   "outputs": [],
   "source": [
    "sales.Quantity=sales.Quantity.astype(int)"
   ]
  },
  {
   "cell_type": "code",
   "execution_count": 15,
   "id": "3880aa1a-3cbf-4994-9542-b5d188809532",
   "metadata": {},
   "outputs": [],
   "source": [
    "sales.Date=pd.to_datetime(sales.Date,format='mixed')"
   ]
  },
  {
   "cell_type": "code",
   "execution_count": 16,
   "id": "b5266bbf-4b4b-4699-9294-df7117536b53",
   "metadata": {},
   "outputs": [
    {
     "name": "stdout",
     "output_type": "stream",
     "text": [
      "<class 'pandas.core.frame.DataFrame'>\n",
      "RangeIndex: 254 entries, 0 to 253\n",
      "Data columns (total 9 columns):\n",
      " #   Column          Non-Null Count  Dtype         \n",
      "---  ------          --------------  -----         \n",
      " 0   Order ID        254 non-null    int64         \n",
      " 1   Date            254 non-null    datetime64[ns]\n",
      " 2   Product         254 non-null    object        \n",
      " 3   Price           254 non-null    float64       \n",
      " 4   Quantity        254 non-null    int64         \n",
      " 5   Purchase Type   254 non-null    object        \n",
      " 6   Payment Method  254 non-null    object        \n",
      " 7   Manager         254 non-null    object        \n",
      " 8   City            254 non-null    object        \n",
      "dtypes: datetime64[ns](1), float64(1), int64(2), object(5)\n",
      "memory usage: 18.0+ KB\n"
     ]
    }
   ],
   "source": [
    "sales.info()"
   ]
  },
  {
   "cell_type": "markdown",
   "id": "012d655a-fbd0-4a3e-aeea-61d9899e9f23",
   "metadata": {},
   "source": [
    "### Q.1) The total sales revenue for the entire dataset?"
   ]
  },
  {
   "cell_type": "code",
   "execution_count": 180,
   "id": "fb595cb2-303b-454d-b662-dee365846486",
   "metadata": {},
   "outputs": [
    {
     "data": {
      "text/html": [
       "<div>\n",
       "<style scoped>\n",
       "    .dataframe tbody tr th:only-of-type {\n",
       "        vertical-align: middle;\n",
       "    }\n",
       "\n",
       "    .dataframe tbody tr th {\n",
       "        vertical-align: top;\n",
       "    }\n",
       "\n",
       "    .dataframe thead th {\n",
       "        text-align: right;\n",
       "    }\n",
       "</style>\n",
       "<table border=\"1\" class=\"dataframe\">\n",
       "  <thead>\n",
       "    <tr style=\"text-align: right;\">\n",
       "      <th></th>\n",
       "      <th>Total_sales</th>\n",
       "    </tr>\n",
       "  </thead>\n",
       "  <tbody>\n",
       "    <tr>\n",
       "      <th>0</th>\n",
       "      <td>768831.78</td>\n",
       "    </tr>\n",
       "  </tbody>\n",
       "</table>\n",
       "</div>"
      ],
      "text/plain": [
       "   Total_sales\n",
       "0    768831.78"
      ]
     },
     "execution_count": 180,
     "metadata": {},
     "output_type": "execute_result"
    }
   ],
   "source": [
    "Total_sales=(sales['Price']*sales['Quantity']).sum()\n",
    "Sales=pd.DataFrame({'Total_sales':[Total_sales]})\n",
    "Sales"
   ]
  },
  {
   "cell_type": "markdown",
   "id": "ccc85aa5-487f-445f-bca0-d9ab6733972e",
   "metadata": {},
   "source": [
    "### Q.2) Most Preferred Payment Method ?"
   ]
  },
  {
   "cell_type": "code",
   "execution_count": 29,
   "id": "6fbf89c0-c86a-4469-a639-f8a336d4bede",
   "metadata": {},
   "outputs": [
    {
     "data": {
      "text/html": [
       "<div>\n",
       "<style scoped>\n",
       "    .dataframe tbody tr th:only-of-type {\n",
       "        vertical-align: middle;\n",
       "    }\n",
       "\n",
       "    .dataframe tbody tr th {\n",
       "        vertical-align: top;\n",
       "    }\n",
       "\n",
       "    .dataframe thead th {\n",
       "        text-align: right;\n",
       "    }\n",
       "</style>\n",
       "<table border=\"1\" class=\"dataframe\">\n",
       "  <thead>\n",
       "    <tr style=\"text-align: right;\">\n",
       "      <th></th>\n",
       "      <th>Order ID</th>\n",
       "      <th>Date</th>\n",
       "      <th>Product</th>\n",
       "      <th>Price</th>\n",
       "      <th>Quantity</th>\n",
       "      <th>Purchase Type</th>\n",
       "      <th>Payment Method</th>\n",
       "      <th>Manager</th>\n",
       "      <th>City</th>\n",
       "    </tr>\n",
       "  </thead>\n",
       "  <tbody>\n",
       "    <tr>\n",
       "      <th>0</th>\n",
       "      <td>10452</td>\n",
       "      <td>2022-07-11</td>\n",
       "      <td>Fries</td>\n",
       "      <td>3.49</td>\n",
       "      <td>573</td>\n",
       "      <td>Online</td>\n",
       "      <td>Gift Card</td>\n",
       "      <td>Tom      Jackson</td>\n",
       "      <td>London</td>\n",
       "    </tr>\n",
       "    <tr>\n",
       "      <th>1</th>\n",
       "      <td>10453</td>\n",
       "      <td>2022-07-11</td>\n",
       "      <td>Beverages</td>\n",
       "      <td>2.95</td>\n",
       "      <td>745</td>\n",
       "      <td>Online</td>\n",
       "      <td>Gift Card</td>\n",
       "      <td>Pablo Perez</td>\n",
       "      <td>Madrid</td>\n",
       "    </tr>\n",
       "  </tbody>\n",
       "</table>\n",
       "</div>"
      ],
      "text/plain": [
       "   Order ID       Date    Product  Price  Quantity Purchase Type  \\\n",
       "0     10452 2022-07-11      Fries   3.49       573       Online    \n",
       "1     10453 2022-07-11  Beverages   2.95       745       Online    \n",
       "\n",
       "  Payment Method             Manager    City  \n",
       "0      Gift Card    Tom      Jackson  London  \n",
       "1      Gift Card         Pablo Perez  Madrid  "
      ]
     },
     "execution_count": 29,
     "metadata": {},
     "output_type": "execute_result"
    }
   ],
   "source": [
    "sales.head(2)"
   ]
  },
  {
   "cell_type": "code",
   "execution_count": 26,
   "id": "40d27948-7c3a-48ef-a55f-a4a4ba00eda8",
   "metadata": {},
   "outputs": [
    {
     "data": {
      "text/plain": [
       "Payment Method\n",
       "Credit Card    120\n",
       "Cash            76\n",
       "Gift Card       58\n",
       "Name: count, dtype: int64"
      ]
     },
     "execution_count": 26,
     "metadata": {},
     "output_type": "execute_result"
    }
   ],
   "source": [
    "Pay_method=sales['Payment Method'].value_counts()\n",
    "Pay_method"
   ]
  },
  {
   "cell_type": "code",
   "execution_count": 175,
   "id": "58a3e798-35a5-435f-97f1-1b01b1597de9",
   "metadata": {},
   "outputs": [
    {
     "data": {
      "image/png": "[encoded data removed]",
      "text/plain": [
       "<Figure size 600x600 with 1 Axes>"
      ]
     },
     "metadata": {},
     "output_type": "display_data"
    }
   ],
   "source": [
    "colors=sns.color_palette(\"Set2\", len(Pay_method))\n",
    "Pay_method.plot(kind='pie',autopct='%1.1f%%',title='Distribution of Payment Method',figsize=(6,6),colors=colors)\n",
    "plt.ylabel('')\n",
    "plt.show()"
   ]
  },
  {
   "cell_type": "markdown",
   "id": "7d9647d1-e370-429f-86b3-9140e6824b9c",
   "metadata": {},
   "source": [
    "### Q.3) Most Selling Product ?"
   ]
  },
  {
   "cell_type": "code",
   "execution_count": 38,
   "id": "55c02339-84ac-477b-bcf0-1d6259c35986",
   "metadata": {},
   "outputs": [
    {
     "data": {
      "text/html": [
       "<div>\n",
       "<style scoped>\n",
       "    .dataframe tbody tr th:only-of-type {\n",
       "        vertical-align: middle;\n",
       "    }\n",
       "\n",
       "    .dataframe tbody tr th {\n",
       "        vertical-align: top;\n",
       "    }\n",
       "\n",
       "    .dataframe thead th {\n",
       "        text-align: right;\n",
       "    }\n",
       "</style>\n",
       "<table border=\"1\" class=\"dataframe\">\n",
       "  <thead>\n",
       "    <tr style=\"text-align: right;\">\n",
       "      <th></th>\n",
       "      <th>Order ID</th>\n",
       "      <th>Date</th>\n",
       "      <th>Product</th>\n",
       "      <th>Price</th>\n",
       "      <th>Quantity</th>\n",
       "      <th>Purchase Type</th>\n",
       "      <th>Payment Method</th>\n",
       "      <th>Manager</th>\n",
       "      <th>City</th>\n",
       "      <th>Revenue</th>\n",
       "    </tr>\n",
       "  </thead>\n",
       "  <tbody>\n",
       "    <tr>\n",
       "      <th>0</th>\n",
       "      <td>10452</td>\n",
       "      <td>2022-07-11</td>\n",
       "      <td>Fries</td>\n",
       "      <td>3.49</td>\n",
       "      <td>573</td>\n",
       "      <td>Online</td>\n",
       "      <td>Gift Card</td>\n",
       "      <td>Tom      Jackson</td>\n",
       "      <td>London</td>\n",
       "      <td>1999.77</td>\n",
       "    </tr>\n",
       "    <tr>\n",
       "      <th>1</th>\n",
       "      <td>10453</td>\n",
       "      <td>2022-07-11</td>\n",
       "      <td>Beverages</td>\n",
       "      <td>2.95</td>\n",
       "      <td>745</td>\n",
       "      <td>Online</td>\n",
       "      <td>Gift Card</td>\n",
       "      <td>Pablo Perez</td>\n",
       "      <td>Madrid</td>\n",
       "      <td>2197.75</td>\n",
       "    </tr>\n",
       "    <tr>\n",
       "      <th>2</th>\n",
       "      <td>10454</td>\n",
       "      <td>2022-07-11</td>\n",
       "      <td>Sides &amp; Other</td>\n",
       "      <td>4.99</td>\n",
       "      <td>200</td>\n",
       "      <td>In-store</td>\n",
       "      <td>Gift Card</td>\n",
       "      <td>Joao    Silva</td>\n",
       "      <td>Lisbon</td>\n",
       "      <td>998.00</td>\n",
       "    </tr>\n",
       "    <tr>\n",
       "      <th>3</th>\n",
       "      <td>10455</td>\n",
       "      <td>2022-08-11</td>\n",
       "      <td>Burgers</td>\n",
       "      <td>12.99</td>\n",
       "      <td>569</td>\n",
       "      <td>In-store</td>\n",
       "      <td>Credit Card</td>\n",
       "      <td>Walter Muller</td>\n",
       "      <td>Berlin</td>\n",
       "      <td>7391.31</td>\n",
       "    </tr>\n",
       "    <tr>\n",
       "      <th>4</th>\n",
       "      <td>10456</td>\n",
       "      <td>2022-08-11</td>\n",
       "      <td>Chicken Sandwiches</td>\n",
       "      <td>9.95</td>\n",
       "      <td>201</td>\n",
       "      <td>In-store</td>\n",
       "      <td>Credit Card</td>\n",
       "      <td>Walter Muller</td>\n",
       "      <td>Berlin</td>\n",
       "      <td>1999.95</td>\n",
       "    </tr>\n",
       "    <tr>\n",
       "      <th>...</th>\n",
       "      <td>...</td>\n",
       "      <td>...</td>\n",
       "      <td>...</td>\n",
       "      <td>...</td>\n",
       "      <td>...</td>\n",
       "      <td>...</td>\n",
       "      <td>...</td>\n",
       "      <td>...</td>\n",
       "      <td>...</td>\n",
       "      <td>...</td>\n",
       "    </tr>\n",
       "    <tr>\n",
       "      <th>249</th>\n",
       "      <td>10709</td>\n",
       "      <td>2022-12-28</td>\n",
       "      <td>Sides &amp; Other</td>\n",
       "      <td>4.99</td>\n",
       "      <td>200</td>\n",
       "      <td>Drive-thru</td>\n",
       "      <td>Gift Card</td>\n",
       "      <td>Walter Muller</td>\n",
       "      <td>Berlin</td>\n",
       "      <td>998.00</td>\n",
       "    </tr>\n",
       "    <tr>\n",
       "      <th>250</th>\n",
       "      <td>10710</td>\n",
       "      <td>2022-12-29</td>\n",
       "      <td>Burgers</td>\n",
       "      <td>12.99</td>\n",
       "      <td>754</td>\n",
       "      <td>Drive-thru</td>\n",
       "      <td>Gift Card</td>\n",
       "      <td>Walter Muller</td>\n",
       "      <td>Berlin</td>\n",
       "      <td>9794.46</td>\n",
       "    </tr>\n",
       "    <tr>\n",
       "      <th>251</th>\n",
       "      <td>10711</td>\n",
       "      <td>2022-12-29</td>\n",
       "      <td>Chicken Sandwiches</td>\n",
       "      <td>9.95</td>\n",
       "      <td>281</td>\n",
       "      <td>Drive-thru</td>\n",
       "      <td>Gift Card</td>\n",
       "      <td>Walter Muller</td>\n",
       "      <td>Berlin</td>\n",
       "      <td>2795.95</td>\n",
       "    </tr>\n",
       "    <tr>\n",
       "      <th>252</th>\n",
       "      <td>10712</td>\n",
       "      <td>2022-12-29</td>\n",
       "      <td>Fries</td>\n",
       "      <td>3.49</td>\n",
       "      <td>630</td>\n",
       "      <td>Drive-thru</td>\n",
       "      <td>Gift Card</td>\n",
       "      <td>Walter Muller</td>\n",
       "      <td>Berlin</td>\n",
       "      <td>2198.70</td>\n",
       "    </tr>\n",
       "    <tr>\n",
       "      <th>253</th>\n",
       "      <td>10713</td>\n",
       "      <td>2022-12-29</td>\n",
       "      <td>Beverages</td>\n",
       "      <td>2.95</td>\n",
       "      <td>677</td>\n",
       "      <td>Drive-thru</td>\n",
       "      <td>Gift Card</td>\n",
       "      <td>Walter Muller</td>\n",
       "      <td>Berlin</td>\n",
       "      <td>1997.15</td>\n",
       "    </tr>\n",
       "  </tbody>\n",
       "</table>\n",
       "<p>254 rows × 10 columns</p>\n",
       "</div>"
      ],
      "text/plain": [
       "     Order ID       Date             Product  Price  Quantity Purchase Type  \\\n",
       "0       10452 2022-07-11               Fries   3.49       573       Online    \n",
       "1       10453 2022-07-11           Beverages   2.95       745       Online    \n",
       "2       10454 2022-07-11       Sides & Other   4.99       200     In-store    \n",
       "3       10455 2022-08-11             Burgers  12.99       569     In-store    \n",
       "4       10456 2022-08-11  Chicken Sandwiches   9.95       201     In-store    \n",
       "..        ...        ...                 ...    ...       ...           ...   \n",
       "249     10709 2022-12-28       Sides & Other   4.99       200   Drive-thru    \n",
       "250     10710 2022-12-29             Burgers  12.99       754   Drive-thru    \n",
       "251     10711 2022-12-29  Chicken Sandwiches   9.95       281   Drive-thru    \n",
       "252     10712 2022-12-29               Fries   3.49       630   Drive-thru    \n",
       "253     10713 2022-12-29           Beverages   2.95       677   Drive-thru    \n",
       "\n",
       "    Payment Method             Manager    City  Revenue  \n",
       "0        Gift Card    Tom      Jackson  London  1999.77  \n",
       "1        Gift Card         Pablo Perez  Madrid  2197.75  \n",
       "2        Gift Card       Joao    Silva  Lisbon   998.00  \n",
       "3      Credit Card       Walter Muller  Berlin  7391.31  \n",
       "4      Credit Card       Walter Muller  Berlin  1999.95  \n",
       "..             ...                 ...     ...      ...  \n",
       "249      Gift Card       Walter Muller  Berlin   998.00  \n",
       "250      Gift Card       Walter Muller  Berlin  9794.46  \n",
       "251      Gift Card       Walter Muller  Berlin  2795.95  \n",
       "252      Gift Card       Walter Muller  Berlin  2198.70  \n",
       "253      Gift Card       Walter Muller  Berlin  1997.15  \n",
       "\n",
       "[254 rows x 10 columns]"
      ]
     },
     "execution_count": 38,
     "metadata": {},
     "output_type": "execute_result"
    }
   ],
   "source": [
    "sales['Revenue']=sales['Price']*sales['Quantity'] #Create new column names Revenue\n",
    "sales"
   ]
  },
  {
   "cell_type": "code",
   "execution_count": 42,
   "id": "4f453d43-247a-4fdf-b821-684f05331c00",
   "metadata": {},
   "outputs": [
    {
     "data": {
      "text/plain": [
       "Product\n",
       "Burgers               376658.04\n",
       "Fries                 125602.14\n",
       "Chicken Sandwiches    114602.50\n",
       "Beverages             103067.10\n",
       "Sides & Other          48902.00\n",
       "Name: Revenue, dtype: float64"
      ]
     },
     "execution_count": 42,
     "metadata": {},
     "output_type": "execute_result"
    }
   ],
   "source": [
    "Product_sell=sales.groupby('Product')['Revenue'].sum().sort_values(ascending=False).head(5)\n",
    "Product_sell"
   ]
  },
  {
   "cell_type": "code",
   "execution_count": 209,
   "id": "501d00c1-5a2a-445a-86f3-90ce71075596",
   "metadata": {},
   "outputs": [
    {
     "data": {
      "image/png": "[encoded data removed]",
      "text/plain": [
       "<Figure size 800x400 with 1 Axes>"
      ]
     },
     "metadata": {},
     "output_type": "display_data"
    }
   ],
   "source": [
    "colors=sns.color_palette(\"Set3\", len(Pay_method))\n",
    "Product_sell.plot(kind='bar',ylabel='Sales',figsize=(8,4),color=colors,title='Top Selling Products')\n",
    "plt.xticks(rotation=15)\n",
    "plt.show()"
   ]
  },
  {
   "cell_type": "markdown",
   "id": "64aba747-ef66-4771-9262-2e0860f225ad",
   "metadata": {},
   "source": [
    "### Q.4)Average price each product"
   ]
  },
  {
   "cell_type": "code",
   "execution_count": 186,
   "id": "3b37bd87-1013-441e-aa66-0ce83f06ef5f",
   "metadata": {},
   "outputs": [
    {
     "data": {
      "text/plain": [
       "Product\n",
       "Burgers               12.990000\n",
       "Chicken Sandwiches    10.317308\n",
       "Sides & Other          4.990000\n",
       "Fries                  3.921569\n",
       "Beverages              2.950000\n",
       "Name: Price, dtype: float64"
      ]
     },
     "execution_count": 186,
     "metadata": {},
     "output_type": "execute_result"
    }
   ],
   "source": [
    "Product_price=sales.groupby('Product')['Price'].mean().sort_values(ascending=False).head(5)\n",
    "Product_price"
   ]
  },
  {
   "cell_type": "code",
   "execution_count": 210,
   "id": "1ba53436-5e55-4271-b232-a2cf2c5ca641",
   "metadata": {},
   "outputs": [
    {
     "data": {
      "image/png": "[encoded data removed]",
      "text/plain": [
       "<Figure size 800x400 with 1 Axes>"
      ]
     },
     "metadata": {},
     "output_type": "display_data"
    }
   ],
   "source": [
    "colors=sns.color_palette(\"Paired\", len(Product_price))\n",
    "Product_price.plot(kind='barh',ylabel='',xlabel='Avg price',figsize=(8,4),color=colors, title='Avg price  each product')\n",
    "plt.xticks(rotation=15)\n",
    "plt.show()"
   ]
  },
  {
   "cell_type": "markdown",
   "id": "201ce49e-eb8c-4cf8-945d-203241452deb",
   "metadata": {},
   "source": [
    "### Q.5) Calculate the total quantity sold for each product"
   ]
  },
  {
   "cell_type": "code",
   "execution_count": 194,
   "id": "f540c55f-8060-436b-bbaa-dfb3c7e6c717",
   "metadata": {},
   "outputs": [
    {
     "data": {
      "text/plain": [
       "Product\n",
       "Beverages             34938\n",
       "Fries                 32016\n",
       "Burgers               28996\n",
       "Chicken Sandwiches    11132\n",
       "Sides & Other          9800\n",
       "Name: Quantity, dtype: int64"
      ]
     },
     "execution_count": 194,
     "metadata": {},
     "output_type": "execute_result"
    }
   ],
   "source": [
    "Product_Quantity=sales.groupby('Product')['Quantity'].sum().sort_values(ascending=False).head(5)\n",
    "Product_Quantity"
   ]
  },
  {
   "cell_type": "code",
   "execution_count": 211,
   "id": "ba219e79-12d8-4660-a943-3fbbf7058341",
   "metadata": {},
   "outputs": [
    {
     "data": {
      "image/png": "[encoded data removed]",
      "text/plain": [
       "<Figure size 800x400 with 1 Axes>"
      ]
     },
     "metadata": {},
     "output_type": "display_data"
    }
   ],
   "source": [
    "colors=sns.color_palette(\"viridis\", len(Product_Quantity))\n",
    "Product_Quantity.plot(kind='bar',ylabel='Quantity',figsize=(8,4),color=colors,title='Quantity Sold per Product')\n",
    "plt.xticks(rotation=15)\n",
    "plt.show()"
   ]
  },
  {
   "cell_type": "markdown",
   "id": "70eb9837-0379-4bde-878d-a9db52236b54",
   "metadata": {},
   "source": [
    "### Q.6) Calculate the total quantity sold by each city"
   ]
  },
  {
   "cell_type": "code",
   "execution_count": 212,
   "id": "74d60da2-8094-499e-8892-d1321970e8c2",
   "metadata": {},
   "outputs": [
    {
     "data": {
      "text/plain": [
       "City\n",
       "Lisbon    35718\n",
       "London    33503\n",
       "Madrid    20426\n",
       "Berlin    14755\n",
       "Paris     12480\n",
       "Name: Quantity, dtype: int64"
      ]
     },
     "execution_count": 212,
     "metadata": {},
     "output_type": "execute_result"
    }
   ],
   "source": [
    "City_Quantity=sales.groupby('City')['Quantity'].sum().sort_values(ascending=False).head(5)\n",
    "City_Quantity"
   ]
  },
  {
   "cell_type": "code",
   "execution_count": 219,
   "id": "de1946c5-8423-41fc-a3b0-f5139d6ffb13",
   "metadata": {},
   "outputs": [
    {
     "data": {
      "image/png": "[encoded data removed]",
      "text/plain": [
       "<Figure size 800x400 with 1 Axes>"
      ]
     },
     "metadata": {},
     "output_type": "display_data"
    }
   ],
   "source": [
    "colors=sns.color_palette(\"RdYlGn\", len(City_Quantity))\n",
    "City_Quantity.plot(kind='bar',ylabel='Quantity',figsize=(8,4),color=colors,title='Quantity Sold per City')\n",
    "plt.xticks(rotation=0)\n",
    "plt.show()"
   ]
  },
  {
   "cell_type": "markdown",
   "id": "9005d446-4e08-4a55-a132-15b813e32d42",
   "metadata": {},
   "source": [
    "### Q.7) calculate the  top 5 Manages based on maximum quantity sold "
   ]
  },
  {
   "cell_type": "code",
   "execution_count": 222,
   "id": "858f7b52-f4bf-4173-aede-debdf3cf9109",
   "metadata": {},
   "outputs": [
    {
     "data": {
      "text/html": [
       "<div>\n",
       "<style scoped>\n",
       "    .dataframe tbody tr th:only-of-type {\n",
       "        vertical-align: middle;\n",
       "    }\n",
       "\n",
       "    .dataframe tbody tr th {\n",
       "        vertical-align: top;\n",
       "    }\n",
       "\n",
       "    .dataframe thead th {\n",
       "        text-align: right;\n",
       "    }\n",
       "</style>\n",
       "<table border=\"1\" class=\"dataframe\">\n",
       "  <thead>\n",
       "    <tr style=\"text-align: right;\">\n",
       "      <th></th>\n",
       "      <th>Order ID</th>\n",
       "      <th>Date</th>\n",
       "      <th>Product</th>\n",
       "      <th>Price</th>\n",
       "      <th>Quantity</th>\n",
       "      <th>Purchase Type</th>\n",
       "      <th>Payment Method</th>\n",
       "      <th>Manager</th>\n",
       "      <th>City</th>\n",
       "      <th>Revenue</th>\n",
       "      <th>Day</th>\n",
       "      <th>Month</th>\n",
       "    </tr>\n",
       "  </thead>\n",
       "  <tbody>\n",
       "    <tr>\n",
       "      <th>0</th>\n",
       "      <td>10452</td>\n",
       "      <td>2022-07-11</td>\n",
       "      <td>Fries</td>\n",
       "      <td>3.49</td>\n",
       "      <td>573</td>\n",
       "      <td>Online</td>\n",
       "      <td>Gift Card</td>\n",
       "      <td>Tom      Jackson</td>\n",
       "      <td>London</td>\n",
       "      <td>1999.77</td>\n",
       "      <td>Monday</td>\n",
       "      <td>7</td>\n",
       "    </tr>\n",
       "    <tr>\n",
       "      <th>1</th>\n",
       "      <td>10453</td>\n",
       "      <td>2022-07-11</td>\n",
       "      <td>Beverages</td>\n",
       "      <td>2.95</td>\n",
       "      <td>745</td>\n",
       "      <td>Online</td>\n",
       "      <td>Gift Card</td>\n",
       "      <td>Pablo Perez</td>\n",
       "      <td>Madrid</td>\n",
       "      <td>2197.75</td>\n",
       "      <td>Monday</td>\n",
       "      <td>7</td>\n",
       "    </tr>\n",
       "    <tr>\n",
       "      <th>2</th>\n",
       "      <td>10454</td>\n",
       "      <td>2022-07-11</td>\n",
       "      <td>Sides &amp; Other</td>\n",
       "      <td>4.99</td>\n",
       "      <td>200</td>\n",
       "      <td>In-store</td>\n",
       "      <td>Gift Card</td>\n",
       "      <td>Joao    Silva</td>\n",
       "      <td>Lisbon</td>\n",
       "      <td>998.00</td>\n",
       "      <td>Monday</td>\n",
       "      <td>7</td>\n",
       "    </tr>\n",
       "    <tr>\n",
       "      <th>3</th>\n",
       "      <td>10455</td>\n",
       "      <td>2022-08-11</td>\n",
       "      <td>Burgers</td>\n",
       "      <td>12.99</td>\n",
       "      <td>569</td>\n",
       "      <td>In-store</td>\n",
       "      <td>Credit Card</td>\n",
       "      <td>Walter Muller</td>\n",
       "      <td>Berlin</td>\n",
       "      <td>7391.31</td>\n",
       "      <td>Thursday</td>\n",
       "      <td>8</td>\n",
       "    </tr>\n",
       "    <tr>\n",
       "      <th>4</th>\n",
       "      <td>10456</td>\n",
       "      <td>2022-08-11</td>\n",
       "      <td>Chicken Sandwiches</td>\n",
       "      <td>9.95</td>\n",
       "      <td>201</td>\n",
       "      <td>In-store</td>\n",
       "      <td>Credit Card</td>\n",
       "      <td>Walter Muller</td>\n",
       "      <td>Berlin</td>\n",
       "      <td>1999.95</td>\n",
       "      <td>Thursday</td>\n",
       "      <td>8</td>\n",
       "    </tr>\n",
       "  </tbody>\n",
       "</table>\n",
       "</div>"
      ],
      "text/plain": [
       "   Order ID       Date             Product  Price  Quantity Purchase Type  \\\n",
       "0     10452 2022-07-11               Fries   3.49       573       Online    \n",
       "1     10453 2022-07-11           Beverages   2.95       745       Online    \n",
       "2     10454 2022-07-11       Sides & Other   4.99       200     In-store    \n",
       "3     10455 2022-08-11             Burgers  12.99       569     In-store    \n",
       "4     10456 2022-08-11  Chicken Sandwiches   9.95       201     In-store    \n",
       "\n",
       "  Payment Method             Manager    City  Revenue       Day  Month  \n",
       "0      Gift Card    Tom      Jackson  London  1999.77    Monday      7  \n",
       "1      Gift Card         Pablo Perez  Madrid  2197.75    Monday      7  \n",
       "2      Gift Card       Joao    Silva  Lisbon   998.00    Monday      7  \n",
       "3    Credit Card       Walter Muller  Berlin  7391.31  Thursday      8  \n",
       "4    Credit Card       Walter Muller  Berlin  1999.95  Thursday      8  "
      ]
     },
     "execution_count": 222,
     "metadata": {},
     "output_type": "execute_result"
    }
   ],
   "source": [
    "sales.head()"
   ]
  },
  {
   "cell_type": "code",
   "execution_count": 223,
   "id": "132adc4f-5969-4446-9fbe-6a91b722336f",
   "metadata": {},
   "outputs": [
    {
     "data": {
      "text/plain": [
       "Manager\n",
       "Joao Silva       33917\n",
       "Tom Jackson      32930\n",
       "Pablo Perez      15389\n",
       "Walter Muller    14755\n",
       "Remy Monet       10457\n",
       "Name: Quantity, dtype: int64"
      ]
     },
     "execution_count": 223,
     "metadata": {},
     "output_type": "execute_result"
    }
   ],
   "source": [
    "Manager_Quantity=sales.groupby('Manager')['Quantity'].sum().sort_values(ascending=False).head(5)\n",
    "Manager_Quantity"
   ]
  },
  {
   "cell_type": "code",
   "execution_count": 224,
   "id": "11232515-7f1e-4676-ad2a-12930d113eb3",
   "metadata": {},
   "outputs": [
    {
     "data": {
      "image/png": "[encoded data removed]",
      "text/plain": [
       "<Figure size 800x400 with 1 Axes>"
      ]
     },
     "metadata": {},
     "output_type": "display_data"
    }
   ],
   "source": [
    "colors=sns.color_palette(\"viridis\", len(Manager_Quantity))\n",
    "Manager_Quantity.plot(kind='bar',ylabel='Quantity',figsize=(8,4),color=colors,title='Top 5 Managers')\n",
    "plt.xticks(rotation=0)\n",
    "plt.show()"
   ]
  },
  {
   "cell_type": "code",
   "execution_count": 225,
   "id": "51f05f26-f38c-4522-927e-3af5c85dc95e",
   "metadata": {},
   "outputs": [
    {
     "data": {
      "text/html": [
       "<div>\n",
       "<style scoped>\n",
       "    .dataframe tbody tr th:only-of-type {\n",
       "        vertical-align: middle;\n",
       "    }\n",
       "\n",
       "    .dataframe tbody tr th {\n",
       "        vertical-align: top;\n",
       "    }\n",
       "\n",
       "    .dataframe thead th {\n",
       "        text-align: right;\n",
       "    }\n",
       "</style>\n",
       "<table border=\"1\" class=\"dataframe\">\n",
       "  <thead>\n",
       "    <tr style=\"text-align: right;\">\n",
       "      <th></th>\n",
       "      <th>Order ID</th>\n",
       "      <th>Date</th>\n",
       "      <th>Product</th>\n",
       "      <th>Price</th>\n",
       "      <th>Quantity</th>\n",
       "      <th>Purchase Type</th>\n",
       "      <th>Payment Method</th>\n",
       "      <th>Manager</th>\n",
       "      <th>City</th>\n",
       "      <th>Revenue</th>\n",
       "      <th>Day</th>\n",
       "      <th>Month</th>\n",
       "    </tr>\n",
       "  </thead>\n",
       "  <tbody>\n",
       "    <tr>\n",
       "      <th>0</th>\n",
       "      <td>10452</td>\n",
       "      <td>2022-07-11</td>\n",
       "      <td>Fries</td>\n",
       "      <td>3.49</td>\n",
       "      <td>573</td>\n",
       "      <td>Online</td>\n",
       "      <td>Gift Card</td>\n",
       "      <td>Tom      Jackson</td>\n",
       "      <td>London</td>\n",
       "      <td>1999.77</td>\n",
       "      <td>Monday</td>\n",
       "      <td>7</td>\n",
       "    </tr>\n",
       "    <tr>\n",
       "      <th>1</th>\n",
       "      <td>10453</td>\n",
       "      <td>2022-07-11</td>\n",
       "      <td>Beverages</td>\n",
       "      <td>2.95</td>\n",
       "      <td>745</td>\n",
       "      <td>Online</td>\n",
       "      <td>Gift Card</td>\n",
       "      <td>Pablo Perez</td>\n",
       "      <td>Madrid</td>\n",
       "      <td>2197.75</td>\n",
       "      <td>Monday</td>\n",
       "      <td>7</td>\n",
       "    </tr>\n",
       "    <tr>\n",
       "      <th>2</th>\n",
       "      <td>10454</td>\n",
       "      <td>2022-07-11</td>\n",
       "      <td>Sides &amp; Other</td>\n",
       "      <td>4.99</td>\n",
       "      <td>200</td>\n",
       "      <td>In-store</td>\n",
       "      <td>Gift Card</td>\n",
       "      <td>Joao    Silva</td>\n",
       "      <td>Lisbon</td>\n",
       "      <td>998.00</td>\n",
       "      <td>Monday</td>\n",
       "      <td>7</td>\n",
       "    </tr>\n",
       "    <tr>\n",
       "      <th>3</th>\n",
       "      <td>10455</td>\n",
       "      <td>2022-08-11</td>\n",
       "      <td>Burgers</td>\n",
       "      <td>12.99</td>\n",
       "      <td>569</td>\n",
       "      <td>In-store</td>\n",
       "      <td>Credit Card</td>\n",
       "      <td>Walter Muller</td>\n",
       "      <td>Berlin</td>\n",
       "      <td>7391.31</td>\n",
       "      <td>Thursday</td>\n",
       "      <td>8</td>\n",
       "    </tr>\n",
       "    <tr>\n",
       "      <th>4</th>\n",
       "      <td>10456</td>\n",
       "      <td>2022-08-11</td>\n",
       "      <td>Chicken Sandwiches</td>\n",
       "      <td>9.95</td>\n",
       "      <td>201</td>\n",
       "      <td>In-store</td>\n",
       "      <td>Credit Card</td>\n",
       "      <td>Walter Muller</td>\n",
       "      <td>Berlin</td>\n",
       "      <td>1999.95</td>\n",
       "      <td>Thursday</td>\n",
       "      <td>8</td>\n",
       "    </tr>\n",
       "  </tbody>\n",
       "</table>\n",
       "</div>"
      ],
      "text/plain": [
       "   Order ID       Date             Product  Price  Quantity Purchase Type  \\\n",
       "0     10452 2022-07-11               Fries   3.49       573       Online    \n",
       "1     10453 2022-07-11           Beverages   2.95       745       Online    \n",
       "2     10454 2022-07-11       Sides & Other   4.99       200     In-store    \n",
       "3     10455 2022-08-11             Burgers  12.99       569     In-store    \n",
       "4     10456 2022-08-11  Chicken Sandwiches   9.95       201     In-store    \n",
       "\n",
       "  Payment Method             Manager    City  Revenue       Day  Month  \n",
       "0      Gift Card    Tom      Jackson  London  1999.77    Monday      7  \n",
       "1      Gift Card         Pablo Perez  Madrid  2197.75    Monday      7  \n",
       "2      Gift Card       Joao    Silva  Lisbon   998.00    Monday      7  \n",
       "3    Credit Card       Walter Muller  Berlin  7391.31  Thursday      8  \n",
       "4    Credit Card       Walter Muller  Berlin  1999.95  Thursday      8  "
      ]
     },
     "execution_count": 225,
     "metadata": {},
     "output_type": "execute_result"
    }
   ],
   "source": [
    "sales.head()"
   ]
  },
  {
   "cell_type": "markdown",
   "id": "4bc8124b-d508-4eaa-95b3-a214453a6e5e",
   "metadata": {},
   "source": [
    "### Q.8) What is relation between purchase type and payment method"
   ]
  },
  {
   "cell_type": "code",
   "execution_count": 245,
   "id": "8bb2a467-1e89-49eb-83f8-2a478194d747",
   "metadata": {},
   "outputs": [
    {
     "data": {
      "text/html": [
       "<div>\n",
       "<style scoped>\n",
       "    .dataframe tbody tr th:only-of-type {\n",
       "        vertical-align: middle;\n",
       "    }\n",
       "\n",
       "    .dataframe tbody tr th {\n",
       "        vertical-align: top;\n",
       "    }\n",
       "\n",
       "    .dataframe thead th {\n",
       "        text-align: right;\n",
       "    }\n",
       "</style>\n",
       "<table border=\"1\" class=\"dataframe\">\n",
       "  <thead>\n",
       "    <tr style=\"text-align: right;\">\n",
       "      <th>Payment Method</th>\n",
       "      <th>Cash</th>\n",
       "      <th>Credit Card</th>\n",
       "      <th>Gift Card</th>\n",
       "    </tr>\n",
       "    <tr>\n",
       "      <th>Purchase Type</th>\n",
       "      <th></th>\n",
       "      <th></th>\n",
       "      <th></th>\n",
       "    </tr>\n",
       "  </thead>\n",
       "  <tbody>\n",
       "    <tr>\n",
       "      <th>Drive-thru</th>\n",
       "      <td>19</td>\n",
       "      <td>32</td>\n",
       "      <td>10</td>\n",
       "    </tr>\n",
       "    <tr>\n",
       "      <th>In-store</th>\n",
       "      <td>43</td>\n",
       "      <td>41</td>\n",
       "      <td>2</td>\n",
       "    </tr>\n",
       "    <tr>\n",
       "      <th>Online</th>\n",
       "      <td>14</td>\n",
       "      <td>47</td>\n",
       "      <td>46</td>\n",
       "    </tr>\n",
       "  </tbody>\n",
       "</table>\n",
       "</div>"
      ],
      "text/plain": [
       "Payment Method  Cash  Credit Card  Gift Card\n",
       "Purchase Type                               \n",
       "Drive-thru        19           32         10\n",
       "In-store          43           41          2\n",
       "Online            14           47         46"
      ]
     },
     "execution_count": 245,
     "metadata": {},
     "output_type": "execute_result"
    }
   ],
   "source": [
    "Relation=sales.groupby(['Purchase Type','Payment Method']).size().unstack(fill_value=0)\n",
    "Relation"
   ]
  },
  {
   "cell_type": "code",
   "execution_count": 248,
   "id": "8a92832e-4a30-4ace-9314-f5b471072270",
   "metadata": {},
   "outputs": [
    {
     "data": {
      "image/png": "[encoded data removed]",
      "text/plain": [
       "<Figure size 640x480 with 2 Axes>"
      ]
     },
     "metadata": {},
     "output_type": "display_data"
    }
   ],
   "source": [
    "\n",
    "sns.heatmap(Relation,annot=True,fmt='d',cmap='Greens')\n",
    "plt.show()"
   ]
  },
  {
   "cell_type": "markdown",
   "id": "10a6ba7f-b388-4265-9f40-ebe70eb084f7",
   "metadata": {},
   "source": [
    "### Q.9) Which city had maximum revenue"
   ]
  },
  {
   "cell_type": "code",
   "execution_count": 63,
   "id": "f1551afc-a87c-4928-b26e-04c09fef2039",
   "metadata": {},
   "outputs": [
    {
     "data": {
      "text/plain": [
       "City\n",
       "Berlin    100492.73\n",
       "Lisbon    241509.38\n",
       "London    211001.83\n",
       "Madrid    136098.22\n",
       "Paris      79729.62\n",
       "Name: Revenue, dtype: float64"
      ]
     },
     "execution_count": 63,
     "metadata": {},
     "output_type": "execute_result"
    }
   ],
   "source": [
    "Revenue_city=sales.groupby('City')['Revenue'].sum()\n",
    "Revenue_city"
   ]
  },
  {
   "cell_type": "code",
   "execution_count": 256,
   "id": "55188084-9aae-445b-b40f-b00a9517c9d6",
   "metadata": {},
   "outputs": [
    {
     "data": {
      "image/png": "[encoded data removed]",
      "text/plain": [
       "<Figure size 800x400 with 1 Axes>"
      ]
     },
     "metadata": {},
     "output_type": "display_data"
    }
   ],
   "source": [
    "colors=sns.color_palette(\"viridis\",len('Revenue_city'))\n",
    "Revenue_city.plot(kind='barh',figsize=(8,4),xlabel='Sales',title='Revenue per city',color=colors)\n",
    "plt.show()"
   ]
  },
  {
   "cell_type": "markdown",
   "id": "a03d7d8c-8e2b-4f19-b19f-fe7d2b4a8a4e",
   "metadata": {},
   "source": [
    "### Q.10) Date wise revenue"
   ]
  },
  {
   "cell_type": "code",
   "execution_count": 263,
   "id": "313d1d36-fe77-4290-9905-5fb32b3ff535",
   "metadata": {},
   "outputs": [
    {
     "data": {
      "text/plain": [
       "Date\n",
       "2022-11-13    27659.02\n",
       "2022-11-14    17826.67\n",
       "2022-12-28    17580.57\n",
       "2022-12-27    16978.88\n",
       "2022-12-26    16978.88\n",
       "Name: Revenue, dtype: float64"
      ]
     },
     "execution_count": 263,
     "metadata": {},
     "output_type": "execute_result"
    }
   ],
   "source": [
    "Revenue_Date=sales.groupby('Date')['Revenue'].sum().sort_values(ascending=False).head(5)\n",
    "Revenue_Date"
   ]
  },
  {
   "cell_type": "markdown",
   "id": "9348776d-15e8-4d51-9fd2-74efe0ace68d",
   "metadata": {},
   "source": [
    "### Q.11) Day wise Revenue"
   ]
  },
  {
   "cell_type": "code",
   "execution_count": 100,
   "id": "2b1d2098-a401-4096-b126-60439cc5177f",
   "metadata": {},
   "outputs": [
    {
     "data": {
      "text/plain": [
       "Day\n",
       "Monday       112335.82\n",
       "Tuesday      124283.94\n",
       "Wednesday    117496.75\n",
       "Thursday     101912.87\n",
       "Friday        87304.87\n",
       "Saturday     101925.79\n",
       "Sunday       123571.74\n",
       "Name: Revenue, dtype: float64"
      ]
     },
     "execution_count": 100,
     "metadata": {},
     "output_type": "execute_result"
    }
   ],
   "source": [
    "\n",
    "sales['Day']=sales['Date'].dt.day_name()\n",
    "Day_order=['Monday','Tuesday','Wednesday','Thursday','Friday','Saturday','Sunday']\n",
    "Revenue_Day=(sales.groupby('Day')['Revenue'].sum().reindex(Day_order))\n",
    "Revenue_Day"
   ]
  },
  {
   "cell_type": "code",
   "execution_count": 107,
   "id": "ce4d46ac-9557-4754-92ae-92cfbb3aac40",
   "metadata": {},
   "outputs": [
    {
     "data": {
      "image/png": "[encoded data removed]",
      "text/plain": [
       "<Figure size 800x600 with 1 Axes>"
      ]
     },
     "metadata": {},
     "output_type": "display_data"
    }
   ],
   "source": [
    "\n",
    "Revenue_Day.plot(kind='line', figsize=(8,6),marker='o',title='Revenue by Day of Week',ylabel='Total Revenue')\n",
    "plt.show()"
   ]
  },
  {
   "cell_type": "markdown",
   "id": "8e561056-7d11-4b2f-aa04-ffbb0d55a8fa",
   "metadata": {},
   "source": [
    "### Q.12) Average Revenue"
   ]
  },
  {
   "cell_type": "code",
   "execution_count": 262,
   "id": "83fad2d5-8901-4c00-8352-19c3747c5b50",
   "metadata": {},
   "outputs": [
    {
     "data": {
      "text/html": [
       "<div>\n",
       "<style scoped>\n",
       "    .dataframe tbody tr th:only-of-type {\n",
       "        vertical-align: middle;\n",
       "    }\n",
       "\n",
       "    .dataframe tbody tr th {\n",
       "        vertical-align: top;\n",
       "    }\n",
       "\n",
       "    .dataframe thead th {\n",
       "        text-align: right;\n",
       "    }\n",
       "</style>\n",
       "<table border=\"1\" class=\"dataframe\">\n",
       "  <thead>\n",
       "    <tr style=\"text-align: right;\">\n",
       "      <th></th>\n",
       "      <th>Average Revenue</th>\n",
       "    </tr>\n",
       "  </thead>\n",
       "  <tbody>\n",
       "    <tr>\n",
       "      <th>0</th>\n",
       "      <td>3026.9</td>\n",
       "    </tr>\n",
       "  </tbody>\n",
       "</table>\n",
       "</div>"
      ],
      "text/plain": [
       "   Average Revenue\n",
       "0           3026.9"
      ]
     },
     "execution_count": 262,
     "metadata": {},
     "output_type": "execute_result"
    }
   ],
   "source": [
    "Avg_Revenue=sales['Revenue'].mean().round(2)\n",
    "Avg=pd.DataFrame({\"Average Revenue\":[Avg_Revenue]})\n",
    "Avg"
   ]
  },
  {
   "cell_type": "markdown",
   "id": "265e58f5-de09-48a4-a72d-15fef1bf0ff3",
   "metadata": {},
   "source": [
    "### Q.13) Average Revenue of November & December month"
   ]
  },
  {
   "cell_type": "code",
   "execution_count": 110,
   "id": "b5e51797-6e45-4e8a-81b9-8e64b934d1eb",
   "metadata": {},
   "outputs": [
    {
     "data": {
      "text/html": [
       "<div>\n",
       "<style scoped>\n",
       "    .dataframe tbody tr th:only-of-type {\n",
       "        vertical-align: middle;\n",
       "    }\n",
       "\n",
       "    .dataframe tbody tr th {\n",
       "        vertical-align: top;\n",
       "    }\n",
       "\n",
       "    .dataframe thead th {\n",
       "        text-align: right;\n",
       "    }\n",
       "</style>\n",
       "<table border=\"1\" class=\"dataframe\">\n",
       "  <thead>\n",
       "    <tr style=\"text-align: right;\">\n",
       "      <th></th>\n",
       "      <th>Order ID</th>\n",
       "      <th>Date</th>\n",
       "      <th>Product</th>\n",
       "      <th>Price</th>\n",
       "      <th>Quantity</th>\n",
       "      <th>Purchase Type</th>\n",
       "      <th>Payment Method</th>\n",
       "      <th>Manager</th>\n",
       "      <th>City</th>\n",
       "      <th>Revenue</th>\n",
       "      <th>Day</th>\n",
       "      <th>Month</th>\n",
       "    </tr>\n",
       "  </thead>\n",
       "  <tbody>\n",
       "    <tr>\n",
       "      <th>0</th>\n",
       "      <td>10452</td>\n",
       "      <td>2022-07-11</td>\n",
       "      <td>Fries</td>\n",
       "      <td>3.49</td>\n",
       "      <td>573</td>\n",
       "      <td>Online</td>\n",
       "      <td>Gift Card</td>\n",
       "      <td>Tom      Jackson</td>\n",
       "      <td>London</td>\n",
       "      <td>1999.77</td>\n",
       "      <td>Monday</td>\n",
       "      <td>7</td>\n",
       "    </tr>\n",
       "    <tr>\n",
       "      <th>1</th>\n",
       "      <td>10453</td>\n",
       "      <td>2022-07-11</td>\n",
       "      <td>Beverages</td>\n",
       "      <td>2.95</td>\n",
       "      <td>745</td>\n",
       "      <td>Online</td>\n",
       "      <td>Gift Card</td>\n",
       "      <td>Pablo Perez</td>\n",
       "      <td>Madrid</td>\n",
       "      <td>2197.75</td>\n",
       "      <td>Monday</td>\n",
       "      <td>7</td>\n",
       "    </tr>\n",
       "    <tr>\n",
       "      <th>2</th>\n",
       "      <td>10454</td>\n",
       "      <td>2022-07-11</td>\n",
       "      <td>Sides &amp; Other</td>\n",
       "      <td>4.99</td>\n",
       "      <td>200</td>\n",
       "      <td>In-store</td>\n",
       "      <td>Gift Card</td>\n",
       "      <td>Joao    Silva</td>\n",
       "      <td>Lisbon</td>\n",
       "      <td>998.00</td>\n",
       "      <td>Monday</td>\n",
       "      <td>7</td>\n",
       "    </tr>\n",
       "    <tr>\n",
       "      <th>3</th>\n",
       "      <td>10455</td>\n",
       "      <td>2022-08-11</td>\n",
       "      <td>Burgers</td>\n",
       "      <td>12.99</td>\n",
       "      <td>569</td>\n",
       "      <td>In-store</td>\n",
       "      <td>Credit Card</td>\n",
       "      <td>Walter Muller</td>\n",
       "      <td>Berlin</td>\n",
       "      <td>7391.31</td>\n",
       "      <td>Thursday</td>\n",
       "      <td>8</td>\n",
       "    </tr>\n",
       "    <tr>\n",
       "      <th>4</th>\n",
       "      <td>10456</td>\n",
       "      <td>2022-08-11</td>\n",
       "      <td>Chicken Sandwiches</td>\n",
       "      <td>9.95</td>\n",
       "      <td>201</td>\n",
       "      <td>In-store</td>\n",
       "      <td>Credit Card</td>\n",
       "      <td>Walter Muller</td>\n",
       "      <td>Berlin</td>\n",
       "      <td>1999.95</td>\n",
       "      <td>Thursday</td>\n",
       "      <td>8</td>\n",
       "    </tr>\n",
       "    <tr>\n",
       "      <th>...</th>\n",
       "      <td>...</td>\n",
       "      <td>...</td>\n",
       "      <td>...</td>\n",
       "      <td>...</td>\n",
       "      <td>...</td>\n",
       "      <td>...</td>\n",
       "      <td>...</td>\n",
       "      <td>...</td>\n",
       "      <td>...</td>\n",
       "      <td>...</td>\n",
       "      <td>...</td>\n",
       "      <td>...</td>\n",
       "    </tr>\n",
       "    <tr>\n",
       "      <th>249</th>\n",
       "      <td>10709</td>\n",
       "      <td>2022-12-28</td>\n",
       "      <td>Sides &amp; Other</td>\n",
       "      <td>4.99</td>\n",
       "      <td>200</td>\n",
       "      <td>Drive-thru</td>\n",
       "      <td>Gift Card</td>\n",
       "      <td>Walter Muller</td>\n",
       "      <td>Berlin</td>\n",
       "      <td>998.00</td>\n",
       "      <td>Wednesday</td>\n",
       "      <td>12</td>\n",
       "    </tr>\n",
       "    <tr>\n",
       "      <th>250</th>\n",
       "      <td>10710</td>\n",
       "      <td>2022-12-29</td>\n",
       "      <td>Burgers</td>\n",
       "      <td>12.99</td>\n",
       "      <td>754</td>\n",
       "      <td>Drive-thru</td>\n",
       "      <td>Gift Card</td>\n",
       "      <td>Walter Muller</td>\n",
       "      <td>Berlin</td>\n",
       "      <td>9794.46</td>\n",
       "      <td>Thursday</td>\n",
       "      <td>12</td>\n",
       "    </tr>\n",
       "    <tr>\n",
       "      <th>251</th>\n",
       "      <td>10711</td>\n",
       "      <td>2022-12-29</td>\n",
       "      <td>Chicken Sandwiches</td>\n",
       "      <td>9.95</td>\n",
       "      <td>281</td>\n",
       "      <td>Drive-thru</td>\n",
       "      <td>Gift Card</td>\n",
       "      <td>Walter Muller</td>\n",
       "      <td>Berlin</td>\n",
       "      <td>2795.95</td>\n",
       "      <td>Thursday</td>\n",
       "      <td>12</td>\n",
       "    </tr>\n",
       "    <tr>\n",
       "      <th>252</th>\n",
       "      <td>10712</td>\n",
       "      <td>2022-12-29</td>\n",
       "      <td>Fries</td>\n",
       "      <td>3.49</td>\n",
       "      <td>630</td>\n",
       "      <td>Drive-thru</td>\n",
       "      <td>Gift Card</td>\n",
       "      <td>Walter Muller</td>\n",
       "      <td>Berlin</td>\n",
       "      <td>2198.70</td>\n",
       "      <td>Thursday</td>\n",
       "      <td>12</td>\n",
       "    </tr>\n",
       "    <tr>\n",
       "      <th>253</th>\n",
       "      <td>10713</td>\n",
       "      <td>2022-12-29</td>\n",
       "      <td>Beverages</td>\n",
       "      <td>2.95</td>\n",
       "      <td>677</td>\n",
       "      <td>Drive-thru</td>\n",
       "      <td>Gift Card</td>\n",
       "      <td>Walter Muller</td>\n",
       "      <td>Berlin</td>\n",
       "      <td>1997.15</td>\n",
       "      <td>Thursday</td>\n",
       "      <td>12</td>\n",
       "    </tr>\n",
       "  </tbody>\n",
       "</table>\n",
       "<p>254 rows × 12 columns</p>\n",
       "</div>"
      ],
      "text/plain": [
       "     Order ID       Date             Product  Price  Quantity Purchase Type  \\\n",
       "0       10452 2022-07-11               Fries   3.49       573       Online    \n",
       "1       10453 2022-07-11           Beverages   2.95       745       Online    \n",
       "2       10454 2022-07-11       Sides & Other   4.99       200     In-store    \n",
       "3       10455 2022-08-11             Burgers  12.99       569     In-store    \n",
       "4       10456 2022-08-11  Chicken Sandwiches   9.95       201     In-store    \n",
       "..        ...        ...                 ...    ...       ...           ...   \n",
       "249     10709 2022-12-28       Sides & Other   4.99       200   Drive-thru    \n",
       "250     10710 2022-12-29             Burgers  12.99       754   Drive-thru    \n",
       "251     10711 2022-12-29  Chicken Sandwiches   9.95       281   Drive-thru    \n",
       "252     10712 2022-12-29               Fries   3.49       630   Drive-thru    \n",
       "253     10713 2022-12-29           Beverages   2.95       677   Drive-thru    \n",
       "\n",
       "    Payment Method             Manager    City  Revenue        Day  Month  \n",
       "0        Gift Card    Tom      Jackson  London  1999.77     Monday      7  \n",
       "1        Gift Card         Pablo Perez  Madrid  2197.75     Monday      7  \n",
       "2        Gift Card       Joao    Silva  Lisbon   998.00     Monday      7  \n",
       "3      Credit Card       Walter Muller  Berlin  7391.31   Thursday      8  \n",
       "4      Credit Card       Walter Muller  Berlin  1999.95   Thursday      8  \n",
       "..             ...                 ...     ...      ...        ...    ...  \n",
       "249      Gift Card       Walter Muller  Berlin   998.00  Wednesday     12  \n",
       "250      Gift Card       Walter Muller  Berlin  9794.46   Thursday     12  \n",
       "251      Gift Card       Walter Muller  Berlin  2795.95   Thursday     12  \n",
       "252      Gift Card       Walter Muller  Berlin  2198.70   Thursday     12  \n",
       "253      Gift Card       Walter Muller  Berlin  1997.15   Thursday     12  \n",
       "\n",
       "[254 rows x 12 columns]"
      ]
     },
     "execution_count": 110,
     "metadata": {},
     "output_type": "execute_result"
    }
   ],
   "source": [
    "sales['Month']=sales['Date'].dt.month # Create new column for month to filter according to month\n",
    "sales"
   ]
  },
  {
   "cell_type": "code",
   "execution_count": 132,
   "id": "1c5c40f9-d39d-4fc1-a5ee-b2e2ea68d886",
   "metadata": {},
   "outputs": [
    {
     "data": {
      "text/plain": [
       "np.float64(2967.8207216494843)"
      ]
     },
     "execution_count": 132,
     "metadata": {},
     "output_type": "execute_result"
    }
   ],
   "source": [
    "Avg_Revenue=sales.loc[sales['Month']==11,'Revenue'].mean()\n",
    "Avg_Revenue"
   ]
  },
  {
   "cell_type": "code",
   "execution_count": 131,
   "id": "f24d7e2d-6d41-4104-bbee-9e3a34e141b8",
   "metadata": {},
   "outputs": [
    {
     "data": {
      "text/plain": [
       "np.float64(3192.758191489363)"
      ]
     },
     "execution_count": 131,
     "metadata": {},
     "output_type": "execute_result"
    }
   ],
   "source": [
    "Avg_Revenue12=sales.loc[sales['Month']==12,'Revenue'].mean()\n",
    "Avg_Revenue12"
   ]
  },
  {
   "cell_type": "code",
   "execution_count": null,
   "id": "02105590-1529-41d9-8cc2-193244e3057a",
   "metadata": {},
   "outputs": [],
   "source": [
    "### OR to calculate Average in one line of code."
   ]
  },
  {
   "cell_type": "code",
   "execution_count": 161,
   "id": "fdb1e577-2051-4a02-b8dd-d0242b5f10d7",
   "metadata": {},
   "outputs": [
    {
     "data": {
      "text/plain": [
       "Month\n",
       "11    2967.82\n",
       "12    3192.76\n",
       "Name: Revenue, dtype: float64"
      ]
     },
     "execution_count": 161,
     "metadata": {},
     "output_type": "execute_result"
    }
   ],
   "source": [
    "\n",
    "Avg=sales[sales['Month'].isin([11,12])].groupby('Month')['Revenue'].mean().round(2)\n",
    "Avg"
   ]
  },
  {
   "cell_type": "markdown",
   "id": "cd79f56a-e225-49da-8f15-c9d0c096660a",
   "metadata": {},
   "source": [
    "### Q.14) Standard Deviation of Revenue and Quantity ?"
   ]
  },
  {
   "cell_type": "code",
   "execution_count": 136,
   "id": "bf71e4ee-0aa5-4dcf-9e4e-579fa98372ff",
   "metadata": {},
   "outputs": [
    {
     "data": {
      "text/plain": [
       "2418.1931282105456"
      ]
     },
     "execution_count": 136,
     "metadata": {},
     "output_type": "execute_result"
    }
   ],
   "source": [
    "sales['Revenue'].std()"
   ]
  },
  {
   "cell_type": "code",
   "execution_count": 137,
   "id": "b798886f-d7f3-4e6c-94ae-0e8c97586270",
   "metadata": {},
   "outputs": [
    {
     "data": {
      "text/plain": [
       "214.69197583196447"
      ]
     },
     "execution_count": 137,
     "metadata": {},
     "output_type": "execute_result"
    }
   ],
   "source": [
    "sales['Quantity'].std()"
   ]
  },
  {
   "cell_type": "markdown",
   "id": "022d6ae0-743f-4881-bc9c-64a67760ae8d",
   "metadata": {},
   "source": [
    "### Q.15) Variance of Revenue and Quantity ?"
   ]
  },
  {
   "cell_type": "code",
   "execution_count": 138,
   "id": "360a3b1a-9d91-4210-8fe2-523553b2a008",
   "metadata": {},
   "outputs": [
    {
     "data": {
      "text/plain": [
       "5847658.005324705"
      ]
     },
     "execution_count": 138,
     "metadata": {},
     "output_type": "execute_result"
    }
   ],
   "source": [
    "sales['Revenue'].var()"
   ]
  },
  {
   "cell_type": "code",
   "execution_count": 139,
   "id": "ad9909b8-0b19-4970-9143-6e7acc7466a3",
   "metadata": {},
   "outputs": [
    {
     "data": {
      "text/plain": [
       "46092.64448663282"
      ]
     },
     "execution_count": 139,
     "metadata": {},
     "output_type": "execute_result"
    }
   ],
   "source": [
    "sales['Quantity'].var()"
   ]
  },
  {
   "cell_type": "markdown",
   "id": "7dea131e-28b3-4a0d-a41d-98d4a106e4e1",
   "metadata": {},
   "source": [
    "### Q.16) Is revenue increasing or decreasing over time?#monthly base"
   ]
  },
  {
   "cell_type": "code",
   "execution_count": 141,
   "id": "954e0460-47c3-495e-9f0f-eb657369c120",
   "metadata": {},
   "outputs": [
    {
     "data": {
      "text/plain": [
       "Month\n",
       "1      13385.95\n",
       "2      13987.57\n",
       "3      13987.57\n",
       "4       8988.57\n",
       "5      14191.33\n",
       "6      13983.49\n",
       "7      19183.09\n",
       "8      26571.45\n",
       "9      28776.44\n",
       "10     27778.44\n",
       "11    287878.61\n",
       "12    300119.27\n",
       "Name: Revenue, dtype: float64"
      ]
     },
     "execution_count": 141,
     "metadata": {},
     "output_type": "execute_result"
    }
   ],
   "source": [
    "Monthly_revenue =sales.groupby('Month')['Revenue'].sum()\n",
    "Monthly_revenue "
   ]
  },
  {
   "cell_type": "markdown",
   "id": "2b073f3c-51c0-42a0-b048-b4f38cfbc079",
   "metadata": {},
   "source": [
    "Monthly_revenue.plot(x='line',marker='o',figsize=(8,6),ylabel='Monthly Revenue')\n",
    "plt.show()"
   ]
  },
  {
   "cell_type": "markdown",
   "id": "702e8c42-8d30-44e6-872f-ebe5f0b1f34a",
   "metadata": {},
   "source": [
    "### Q.17) Average 'Quantity Sold' & 'Average Revenue' for each product ?"
   ]
  },
  {
   "cell_type": "code",
   "execution_count": 145,
   "id": "cac68393-8bd3-4245-b381-ae4ecb6b0a14",
   "metadata": {},
   "outputs": [
    {
     "data": {
      "text/plain": [
       "Product\n",
       "Beverages             698.760000\n",
       "Burgers               557.615385\n",
       "Chicken Sandwiches    214.076923\n",
       "Fries                 627.764706\n",
       "Sides & Other         200.000000\n",
       "Name: Quantity, dtype: float64"
      ]
     },
     "execution_count": 145,
     "metadata": {},
     "output_type": "execute_result"
    }
   ],
   "source": [
    "sales.groupby('Product')['Quantity'].mean()"
   ]
  },
  {
   "cell_type": "code",
   "execution_count": 146,
   "id": "99e322a0-b096-4a2d-b245-65ab017460dc",
   "metadata": {},
   "outputs": [
    {
     "data": {
      "text/plain": [
       "Product\n",
       "Beverages             2061.342000\n",
       "Burgers               7243.423846\n",
       "Chicken Sandwiches    2203.894231\n",
       "Fries                 2462.787059\n",
       "Sides & Other          998.000000\n",
       "Name: Revenue, dtype: float64"
      ]
     },
     "execution_count": 146,
     "metadata": {},
     "output_type": "execute_result"
    }
   ],
   "source": [
    "sales.groupby('Product')['Revenue'].mean()"
   ]
  },
  {
   "cell_type": "code",
   "execution_count": 152,
   "id": "46b0dfc3-f35e-4dca-93e5-af268eac2927",
   "metadata": {},
   "outputs": [
    {
     "data": {
      "text/html": [
       "<div>\n",
       "<style scoped>\n",
       "    .dataframe tbody tr th:only-of-type {\n",
       "        vertical-align: middle;\n",
       "    }\n",
       "\n",
       "    .dataframe tbody tr th {\n",
       "        vertical-align: top;\n",
       "    }\n",
       "\n",
       "    .dataframe thead th {\n",
       "        text-align: right;\n",
       "    }\n",
       "</style>\n",
       "<table border=\"1\" class=\"dataframe\">\n",
       "  <thead>\n",
       "    <tr style=\"text-align: right;\">\n",
       "      <th></th>\n",
       "      <th>Quantity</th>\n",
       "      <th>Revenue</th>\n",
       "    </tr>\n",
       "    <tr>\n",
       "      <th>Product</th>\n",
       "      <th></th>\n",
       "      <th></th>\n",
       "    </tr>\n",
       "  </thead>\n",
       "  <tbody>\n",
       "    <tr>\n",
       "      <th>Beverages</th>\n",
       "      <td>698.76</td>\n",
       "      <td>2061.34</td>\n",
       "    </tr>\n",
       "    <tr>\n",
       "      <th>Burgers</th>\n",
       "      <td>557.62</td>\n",
       "      <td>7243.42</td>\n",
       "    </tr>\n",
       "    <tr>\n",
       "      <th>Chicken Sandwiches</th>\n",
       "      <td>214.08</td>\n",
       "      <td>2203.89</td>\n",
       "    </tr>\n",
       "    <tr>\n",
       "      <th>Fries</th>\n",
       "      <td>627.76</td>\n",
       "      <td>2462.79</td>\n",
       "    </tr>\n",
       "    <tr>\n",
       "      <th>Sides &amp; Other</th>\n",
       "      <td>200.00</td>\n",
       "      <td>998.00</td>\n",
       "    </tr>\n",
       "  </tbody>\n",
       "</table>\n",
       "</div>"
      ],
      "text/plain": [
       "                    Quantity  Revenue\n",
       "Product                              \n",
       "Beverages             698.76  2061.34\n",
       "Burgers               557.62  7243.42\n",
       "Chicken Sandwiches    214.08  2203.89\n",
       "Fries                 627.76  2462.79\n",
       "Sides & Other         200.00   998.00"
      ]
     },
     "execution_count": 152,
     "metadata": {},
     "output_type": "execute_result"
    }
   ],
   "source": [
    "#OR\n",
    "sales.groupby('Product')[['Quantity','Revenue']].agg({'Quantity':'mean','Revenue':'mean'}).round(2)"
   ]
  },
  {
   "cell_type": "code",
   "execution_count": null,
   "id": "30890c21-c146-499c-b277-e4b82528ad74",
   "metadata": {},
   "outputs": [],
   "source": []
  }
 ],
 "metadata": {
  "kernelspec": {
   "display_name": "Python [conda env:base] *",
   "language": "python",
   "name": "conda-base-py"
  },
  "language_info": {
   "codemirror_mode": {
    "name": "ipython",
    "version": 3
   },
   "file_extension": ".py",
   "mimetype": "text/x-python",
   "name": "python",
   "nbconvert_exporter": "python",
   "pygments_lexer": "ipython3",
   "version": "3.13.5"
  }
 },
 "nbformat": 4,
 "nbformat_minor": 5
}
